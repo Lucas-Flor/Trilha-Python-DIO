{
  "nbformat": 4,
  "nbformat_minor": 0,
  "metadata": {
    "colab": {
      "provenance": [],
      "collapsed_sections": [],
      "mount_file_id": "1sLRMYBF1Mvb8M4pwPPchAcqYc618HJlP",
      "authorship_tag": "ABX9TyMhPEos01aqA4B1IC+UeSpF",
      "include_colab_link": true
    },
    "kernelspec": {
      "name": "python3",
      "display_name": "Python 3"
    },
    "language_info": {
      "name": "python"
    }
  },
  "cells": [
    {
      "cell_type": "markdown",
      "metadata": {
        "id": "view-in-github",
        "colab_type": "text"
      },
      "source": [
        "<a href=\"https://colab.research.google.com/github/Lucas-Flor/Trilha-Python-DIO/blob/main/Project_Data_Analysis_with_Python_and_Pandas.ipynb\" target=\"_parent\"><img src=\"https://colab.research.google.com/assets/colab-badge.svg\" alt=\"Open In Colab\"/></a>"
      ]
    },
    {
      "cell_type": "markdown",
      "source": [
        "**Projeto Python para análise de dados (Pandas)** - Lucas Flor de Lima "
      ],
      "metadata": {
        "id": "X13v4mvG-5Gk"
      }
    },
    {
      "cell_type": "code",
      "source": [
        "import numpy as np\n",
        "import pandas as pd\n",
        "#criar uma série com índice\n",
        "ago2021 = [5.2495, 5.2585, 5.3025, 5.4180, 5.4274]\n",
        "serie1 = pd.Series(ago2021, index=['16/08', '17/08', '18/08','19/08', '20/08'])\n",
        "print(serie)\n",
        "\n",
        "#criar uma serie sem indice\n",
        "ago2020 = [5.4497, 5.4659, 5.4906, 5.6510, 5.6064]\n",
        "serie2 = pd.Series(ago2020)\n",
        "print(serie2)\n",
        "print(serie2.index)\n",
        "\n",
        "#fatiar os dados de uma série\n",
        "print(\"\\nFatiamento da Serie\")\n",
        "print(serie1[:3])\n",
        "print(\"\\nAcessando o índice\")\n",
        "print(serie1[[4,2,0]])\n",
        "\n",
        "#operações com series\n",
        "print(\"\\ncCotações acima da média: %.2f\"%serie1.mean())\n",
        "print(serie1[serie1 > serie1.mean ()])\n",
        "\n",
        "print(\"\\nCotações abaixo da mediana: %.2f\"%serie1.median())\n",
        "print(serie1[serie1 < serie1.median()])"
      ],
      "metadata": {
        "id": "vKjZCSEMyPL7"
      },
      "execution_count": null,
      "outputs": []
    }
  ]
}